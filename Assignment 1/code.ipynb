{
 "cells": [
  {
   "cell_type": "code",
   "execution_count": 3,
   "metadata": {},
   "outputs": [
    {
     "name": "stdout",
     "output_type": "stream",
     "text": [
      "Twinkle, twinkle, little star,\n",
      "\tHow I wonder what you are!\n",
      "\t\tUp above the world so high,\n",
      "\t\tLike a diamond in the sky.\n",
      "Twinkle, twinkle, little star,\n",
      "\tHow I wonder what you are!\n"
     ]
    }
   ],
   "source": [
    "# Write a Python prorgam to print Twinkle, twinkle, little star Poem in the format\n",
    "def print_twinkle_twinkle():\n",
    "    print(\"Twinkle, twinkle, little star,\")\n",
    "    print(\"\\tHow I wonder what you are!\")\n",
    "    print(\"\\t\\tUp above the world so high,\")\n",
    "    print(\"\\t\\tLike a diamond in the sky.\")\n",
    "    print(\"Twinkle, twinkle, little star,\")\n",
    "    print(\"\\tHow I wonder what you are!\")\n",
    "\n",
    "print_twinkle_twinkle()"
   ]
  },
  {
   "cell_type": "code",
   "execution_count": 4,
   "metadata": {},
   "outputs": [
    {
     "name": "stdout",
     "output_type": "stream",
     "text": [
      "3.10.1 (tags/v3.10.1:2cd268a, Dec  6 2021, 19:10:37) [MSC v.1929 64 bit (AMD64)]\n"
     ]
    }
   ],
   "source": [
    "# Write a Python program to get the Python version you are using\n",
    "import sys\n",
    "print(sys.version)"
   ]
  },
  {
   "cell_type": "code",
   "execution_count": 5,
   "metadata": {},
   "outputs": [
    {
     "name": "stdout",
     "output_type": "stream",
     "text": [
      "2021-12-30 00:04:27.000997\n"
     ]
    }
   ],
   "source": [
    "# writa a python program to display the current date and time\n",
    "import datetime\n",
    "print(datetime.datetime.now())"
   ]
  },
  {
   "cell_type": "code",
   "execution_count": 6,
   "metadata": {},
   "outputs": [
    {
     "name": "stdout",
     "output_type": "stream",
     "text": [
      "Area of the circle is:  12.566370614359172\n"
     ]
    }
   ],
   "source": [
    "# Write a Python program which accepts the radius of a circle from the user and compute the area.\n",
    "import math\n",
    "radius = float(input(\"Enter the radius of the circle: \"))\n",
    "area = math.pi * radius ** 2\n",
    "print(\"Area of the circle is: \", area)"
   ]
  },
  {
   "cell_type": "code",
   "execution_count": 8,
   "metadata": {},
   "outputs": [
    {
     "name": "stdout",
     "output_type": "stream",
     "text": [
      "Ayaz Uzma\n"
     ]
    }
   ],
   "source": [
    "# Write a Python program which accepts the user's first and last name and print them in reverse order with a space between them.\n",
    "first_name = input(\"Enter your first name: \")\n",
    "last_name = input(\"Enter your last name: \")\n",
    "print(last_name + \" \" + first_name)"
   ]
  },
  {
   "cell_type": "code",
   "execution_count": 9,
   "metadata": {},
   "outputs": [
    {
     "name": "stdout",
     "output_type": "stream",
     "text": [
      "10\n"
     ]
    }
   ],
   "source": [
    "# Write a Python program which takes two inputs from user and print them addition\n",
    "num1 = int(input(\"Enter the first number: \"))\n",
    "num2 = int(input(\"Enter the second number: \"))\n",
    "print(num1 + num2)"
   ]
  }
 ],
 "metadata": {
  "interpreter": {
   "hash": "fe22e85f1e62c13ce1463dbb33322b84ca54426f832b5a72ea0c3179d74df209"
  },
  "kernelspec": {
   "display_name": "Python 3.10.1 64-bit",
   "language": "python",
   "name": "python3"
  },
  "language_info": {
   "codemirror_mode": {
    "name": "ipython",
    "version": 3
   },
   "file_extension": ".py",
   "mimetype": "text/x-python",
   "name": "python",
   "nbconvert_exporter": "python",
   "pygments_lexer": "ipython3",
   "version": "3.10.1"
  },
  "orig_nbformat": 4
 },
 "nbformat": 4,
 "nbformat_minor": 2
}
